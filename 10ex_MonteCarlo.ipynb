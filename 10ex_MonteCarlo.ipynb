{
 "cells": [
  {
   "cell_type": "markdown",
   "metadata": {},
   "source": [
    "1\\. **Radioactive decay chain**\n",
    "\n",
    "${\\rm Tl}^{208}$ decays to ${\\rm Pb}^{208}$ with a half-lieve of 3.052 minutes. Suppose to start with a sample of 1000 Thallium atoms and 0 of Lead atoms.\n",
    "\n",
    "* Take steps in time of 1 second and at each time-step decide whether each Tl atom has decayed or not, accordingly to the probability $p(t)=1-2^{-t/\\tau}$. Subtract the total number of Tl atoms that decayed at each step from the Tl sample and add them to the Lead one. Plot the evolution of the two sets as a function of time  \n",
    "* Repeat the exercise by means of the inverse transform method: draw 1000 random numbers from the non-uniform probability distribution $p(t)=2^{-t/\\tau}\\frac{\\ln 2}{\\tau}$ to represent the times of decay of the 1000 Tl atoms. Make a plot showing the number of atoms that have not decayed as a function of time"
   ]
  },
  {
   "cell_type": "code",
   "execution_count": 56,
   "metadata": {},
   "outputs": [
    {
     "data": {
      "image/png": "[encoded data removed]",
      "text/plain": [
       "<Figure size 432x288 with 1 Axes>"
      ]
     },
     "metadata": {
      "needs_background": "light"
     },
     "output_type": "display_data"
    }
   ],
   "source": [
    "from __future__ import division\n",
    "import numpy as np\n",
    "import matplotlib.pyplot as pyplot\n",
    "import scipy.integrate\n",
    "import random\n",
    "\n",
    "\n",
    "t_half_Ti   = 3.052 \n",
    "t_half_Pb   = 3.052\n",
    "N           = 1000\n",
    "t1           = 1\n",
    "n_timepoints = 50\n",
    "\n",
    "    \n",
    "def simulate_monte_carlo(N, t1, n_timepoints):\n",
    "     \n",
    "    dt             = t1 / n_timepoints  \n",
    "    count_Ti   = np.zeros((n_timepoints)) \n",
    "    count_Pb = np.zeros((n_timepoints))\n",
    "    atoms          = np.ones((N))  \n",
    "    p_decay_Ti    = 1 - np.power(2, -dt / t_half_Ti)  \n",
    "    p_decay_Pb    = 1 - np.power(2, -dt / t_half_Pb * np.log(2) /t_half_Pb)\n",
    "    for idx_time in range(n_timepoints):\n",
    "        \n",
    "        count_Ti[idx_time] = (atoms == 1).sum()  \n",
    "        count_Pb[idx_time] = (atoms == 2).sum()\n",
    "        \n",
    "        for idx_atom in range(N):\n",
    "            \n",
    "            if atoms[idx_atom] == 1: \n",
    "                if random.random() <= p_decay_Ti:\n",
    "                    atoms[idx_atom] = 2\n",
    "                else:\n",
    "                    atoms[idx_atom] = 1\n",
    "            elif atoms[idx_atom] == 2:\n",
    "                if random.random() <= p_decay_Pb:\n",
    "                    atoms[idx_atom] = 3\n",
    "                else:\n",
    "                    atoms[idx_atom] = 2\n",
    "                \n",
    "    return count_Ti, count_Pb\n",
    "\n",
    "timebase = np.arange(0, t1, t1/n_timepoints) \n",
    "n_Ti, n_Pb = simulate_monte_carlo(N, t1, n_timepoints)   \n",
    " \n",
    "#PLOT THE CODE\n",
    "pyplot.figure() \n",
    "pyplot.plot(timebase, n_Ti, label = 'Monte Carlo Thorium C', color = 'blue')\n",
    "pyplot.plot(timebase, n_Pb, label = 'Monte Carlo  Thorium D', color = 'red')\n",
    "pyplot.title('Graph of the Decay of $^{208}$Ti and $^{208}$Pb')\n",
    "pyplot.ylabel('Number of atoms')\n",
    "pyplot.xlabel('time /days')\n",
    "pyplot.legend(loc='upper right') \n",
    "pyplot.show()"
   ]
  },
  {
   "cell_type": "markdown",
   "metadata": {},
   "source": [
    "2\\. **Rutherford Scattering**\n",
    "\n",
    "The scattering angle $\\theta$ of $\\alpha$ particles hitting a positively charged nucleus of a Gold atom ($Z=79$) follows the rule:\n",
    "\n",
    "$$\n",
    "\\tan{\\frac{1}{2} \\theta} = \\frac{Z e^2} {2\\pi \\epsilon_0 E b}\n",
    "$$\n",
    "\n",
    "where $E=7.7$ MeV and $b$ beam is the impact parameter. The beam is represented by a 2D gaussian distribution with $\\sigma=a_0/100$ for both coordinates ($a_0$ being the Bohr radius). Assume 1 million $\\alpha$ particles are shot on the gold atom.\n",
    "\n",
    "Computing the fraction of particles that \"bounce back\",i.e. those particle whose scattering angle is greater than $\\pi/2$ (which set a condition on the impact parameter $b$)"
   ]
  },
  {
   "cell_type": "code",
   "execution_count": 57,
   "metadata": {},
   "outputs": [
    {
     "ename": "NameError",
     "evalue": "name 'scene' is not defined",
     "output_type": "error",
     "traceback": [
      "\u001b[1;31m---------------------------------------------------------------------------\u001b[0m",
      "\u001b[1;31mNameError\u001b[0m                                 Traceback (most recent call last)",
      "\u001b[1;32m<ipython-input-57-a64b182e35eb>\u001b[0m in \u001b[0;36m<module>\u001b[1;34m\u001b[0m\n\u001b[0;32m      1\u001b[0m \u001b[0mscale\u001b[0m \u001b[1;33m=\u001b[0m \u001b[1;36m1e-10\u001b[0m\u001b[1;33m\u001b[0m\u001b[1;33m\u001b[0m\u001b[0m\n\u001b[0;32m      2\u001b[0m \u001b[1;33m\u001b[0m\u001b[0m\n\u001b[1;32m----> 3\u001b[1;33m \u001b[0mscene\u001b[0m\u001b[1;33m.\u001b[0m\u001b[0mrange\u001b[0m \u001b[1;33m=\u001b[0m \u001b[1;36m0.3\u001b[0m\u001b[1;33m*\u001b[0m\u001b[0mscale\u001b[0m\u001b[1;33m\u001b[0m\u001b[1;33m\u001b[0m\u001b[0m\n\u001b[0m\u001b[0;32m      4\u001b[0m \u001b[1;33m\u001b[0m\u001b[0m\n\u001b[0;32m      5\u001b[0m \u001b[0mR\u001b[0m \u001b[1;33m=\u001b[0m \u001b[0mscale\u001b[0m\u001b[1;33m\u001b[0m\u001b[1;33m\u001b[0m\u001b[0m\n",
      "\u001b[1;31mNameError\u001b[0m: name 'scene' is not defined"
     ]
    }
   ],
   "source": [
    "scale = 1e-10\n",
    "\n",
    "scene.range = 0.3*scale\n",
    "\n",
    "R = scale\n",
    "qe = 1.6e-19\n",
    "KE = 1e5*1.6e-19 # eV*conversion_factor_to_J\n",
    "kel = 9e9\n",
    "range_of_particles = arange(scale*0.04,scale*0.08,scale*0.005)\n",
    "\n",
    "alphas = []\n",
    "\n",
    "for i in range_of_particles:\n",
    "    particle = sphere(radius=0.001*R,make_trail=True,stop=False)\n",
    "    particle.mass = 4*1.67e-27 # kg\n",
    "    particle.charge = 2*qe\n",
    "    particle.pos = vec(-0.6*scale, i, 0)\n",
    "    particle.mom = sqrt(2*particle.mass*KE)*vec(1,0,0)\n",
    "    alphas.append(particle)\n",
    "\n",
    "gold = sphere(color=color.yellow,radius=0.03*scale)\n",
    "gold.charge = 79*qe\n",
    "\n",
    "\n",
    "dt = 1e-18\n",
    "\n",
    "while True:\n",
    "    rate(20)\n",
    "    for particle in alphas:\n",
    "        if particle.stop == False:\n",
    "            runit = particle.pos/mag(particle.pos)\n",
    "            F = kel*particle.charge*gold.charge/mag2(particle.pos)*runit\n",
    "            particle.mom = particle.mom + F*dt\n",
    "            particle.pos = particle.pos + (particle.mom/particle.mass)*dt\n",
    "            #print(particle.mom)\n",
    "        #if mag(particle.pos) < 1:\n",
    "        #    particle.stop = True\n",
    "        if mag(particle.pos) > 2*scale:\n",
    "            particle.stop = True"
   ]
  },
  {
   "cell_type": "markdown",
   "metadata": {},
   "source": [
    "3\\. **Monte Carlo integration: hit/miss vs mean value method**\n",
    "\n",
    "Consider the function \n",
    "\n",
    "$$f(x) =\\sin^2{\\frac{1}{x(2-x)}}$$\n",
    "\n",
    "* Compute the integral of $f(x)$ between 0 and 2 with the hit/miss method. Evaluate the error of your estimate\n",
    "* Repeat the integral with the mean value method. Evaluate the error and compare it with the previous one"
   ]
  },
  {
   "cell_type": "code",
   "execution_count": 40,
   "metadata": {},
   "outputs": [
    {
     "data": {
      "text/plain": [
       "Text(0.5, 1.0, 'Monte Carlo')"
      ]
     },
     "execution_count": 40,
     "metadata": {},
     "output_type": "execute_result"
    },
    {
     "data": {
      "image/png": "[encoded data removed]",
      "text/plain": [
       "<Figure size 432x288 with 1 Axes>"
      ]
     },
     "metadata": {
      "needs_background": "light"
     },
     "output_type": "display_data"
    }
   ],
   "source": [
    "import numpy as np\n",
    "import matplotlib.pyplot as plt\n",
    "import pandas as pd\n",
    "\n",
    "def f(x):\n",
    "    return (np.sin(1/(x*(2-x))))**2\n",
    "\n",
    "x=np.linspace(0.001,1.999,1000)\n",
    "plt.plot(x,f(x),'y-')\n",
    "plt.title('Monte Carlo')\n"
   ]
  },
  {
   "cell_type": "code",
   "execution_count": 41,
   "metadata": {},
   "outputs": [
    {
     "name": "stdout",
     "output_type": "stream",
     "text": [
      "The value calculated by monte carlo integration is 1.4580210277511756.\n"
     ]
    }
   ],
   "source": [
    "from scipy import random\n",
    "import numpy as np\n",
    " \n",
    "# limits of integration\n",
    "a = 0\n",
    "b = 2\n",
    "N = 1000\n",
    "\n",
    "ar = np.zeros(N)\n",
    "\n",
    "for i in range(len(ar)):\n",
    "    ar[i] = random.uniform(a, b)\n",
    "integral = 0.0\n",
    " \n",
    "\n",
    "def f(x):\n",
    "    return (np.sin(1/(x*(2-x))))**2\n",
    "\n",
    "for i in ar:\n",
    "    integral += f(i)\n",
    "\n",
    "ans = (b-a)/float(N)*integral\n",
    " \n",
    "print(\"The value calculated by monte carlo integration is {}.\".format(ans))"
   ]
  },
  {
   "cell_type": "code",
   "execution_count": 44,
   "metadata": {},
   "outputs": [
    {
     "name": "stdout",
     "output_type": "stream",
     "text": [
      "The value calculated by monte carlo integration is: 1.45768\n"
     ]
    }
   ],
   "source": [
    "N=100000\n",
    "count=0\n",
    "for i in range(N):\n",
    "    x=2*np.random.random()\n",
    "    y=np.random.random()\n",
    "    if y<f(x): count+=1\n",
    "I=2*count/N\n",
    "print(\"The value calculated by monte carlo integration is:\",I)"
   ]
  },
  {
   "cell_type": "markdown",
   "metadata": {},
   "source": [
    "4\\. **Monte Carlo integration in high dimension**\n",
    "\n",
    "* Start of by computing the area of a circle of unit radius, by integrating the function \n",
    "\n",
    "$$\n",
    "f(x,y)=\n",
    "\\left\\{\n",
    "\\begin{array}{ll}\n",
    "      1 & x^2+y^2\\le 1 \\\\\n",
    "      0 & {\\rm elsewhere}\n",
    "\\end{array} \n",
    "\\right.\n",
    "$$\n",
    "\n",
    "* Generalize the result for a 10D sphere\n",
    "\n"
   ]
  },
  {
   "cell_type": "code",
   "execution_count": 36,
   "metadata": {},
   "outputs": [
    {
     "name": "stdout",
     "output_type": "stream",
     "text": [
      "result of 10D sphere: 0 \n",
      "\n",
      "result of 5D sphere: 0\n"
     ]
    }
   ],
   "source": [
    "# function in 2 dimention\n",
    "def func(x,y):\n",
    "    if (x**2)+(y**2)<=1 :\n",
    "        return 1\n",
    "    else :\n",
    "         return 0\n",
    "\n",
    "func(2,2)\n",
    "\n",
    "# Generalize the function for a 10D sphere\n",
    "\n",
    "def n_Sphere(dimention,vals):\n",
    "    val=0\n",
    "    for i in range(dimention):\n",
    "        val+=np.power(vals[i],2)\n",
    "    if val<=1:\n",
    "        return 1\n",
    "    else:\n",
    "        return 0\n",
    "\n",
    "print('result of 10D sphere:',n_Sphere(10, [1,2,3,4,5,6,7,8,9,10]),'\\n')\n",
    "print('result of 5D sphere:',n_Sphere(5, [5,2,6,1,10]))\n"
   ]
  },
  {
   "cell_type": "markdown",
   "metadata": {},
   "source": [
    "5\\. **Monte Carlo integration with importance sampling** \n",
    "\n",
    "Calculate the value of the integral:\n",
    "\n",
    "$$\n",
    "I=\\int_0^1 \\frac{x^{-1/2}}{e^x+1} dx\n",
    "$$\n",
    "\n",
    "using the importance sampling method with $w(x)=1/\\sqrt{x}$. You should get a result about 0.84"
   ]
  },
  {
   "cell_type": "code",
   "execution_count": 27,
   "metadata": {},
   "outputs": [
    {
     "name": "stdout",
     "output_type": "stream",
     "text": [
      "The value calculated by monte carlo integration is 0.836979952237623.\n"
     ]
    }
   ],
   "source": [
    "from scipy import random\n",
    "import numpy as np\n",
    "import math\n",
    "import matplotlib.pyplot as plt\n",
    " \n",
    "# limits of integration\n",
    "a = 0\n",
    "b = 1\n",
    "N = 1000\n",
    " \n",
    "# create random data\n",
    "ar = np.zeros(N)\n",
    " \n",
    "#filling with a random value between the limits a and b\n",
    "for i in range(len(ar)):\n",
    "    ar[i] = random.uniform(a, b)\n",
    "\n",
    "integral = 0.0\n",
    " \n",
    "# function of  integration \n",
    "def f(x):\n",
    "    return (x**(-1/2))/(math.exp(x)+1)\n",
    "\n",
    "plot_val = []\n",
    "for i in range(1000):\n",
    "    integral=0\n",
    "    for i in range(len(ar)):\n",
    "        ar[i] = random.uniform(a, b)\n",
    "    for i in ar:\n",
    "        integral += f(i)\n",
    "\n",
    "     \n",
    "    ans = (b-a)/float(N)*integral\n",
    "    plot_val.append(ans)\n",
    "\n",
    "print(\"The value calculated by monte carlo integration is {}.\".format(ans))"
   ]
  },
  {
   "cell_type": "code",
   "execution_count": 39,
   "metadata": {},
   "outputs": [
    {
     "data": {
      "image/png": "[encoded data removed]",
      "text/plain": [
       "<Figure size 432x288 with 1 Axes>"
      ]
     },
     "metadata": {
      "needs_background": "light"
     },
     "output_type": "display_data"
    }
   ],
   "source": [
    "plt.hist (plot_val, bins=30, ec=\"black\",color='r')\n",
    "plt.title(\"Distributions of areas calculated\")\n",
    "plt.xlabel(\"Areas\")\n",
    "plt.show() "
   ]
  },
  {
   "cell_type": "code",
   "execution_count": null,
   "metadata": {},
   "outputs": [],
   "source": []
  }
 ],
 "metadata": {
  "kernelspec": {
   "display_name": "Python 3",
   "language": "python",
   "name": "python3"
  },
  "language_info": {
   "codemirror_mode": {
    "name": "ipython",
    "version": 3
   },
   "file_extension": ".py",
   "mimetype": "text/x-python",
   "name": "python",
   "nbconvert_exporter": "python",
   "pygments_lexer": "ipython3",
   "version": "3.8.5"
  }
 },
 "nbformat": 4,
 "nbformat_minor": 2
}
