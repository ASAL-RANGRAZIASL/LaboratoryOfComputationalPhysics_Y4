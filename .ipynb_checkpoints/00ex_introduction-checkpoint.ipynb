{
 "cells": [
  {
   "cell_type": "markdown",
   "metadata": {},
   "source": [
    "1. The MickeyMouse problem\n",
    "\n",
    "a) Write a program that prints the numbers from 1 to 100. But for multiples of three print Mickey instead of the number and for the multiples of five print Mouse. For numbers which are multiples of both three and five print MickeyMouse\n",
    "\n",
    "b) Put the result in a tuple and substitute Mickey with Donald and Mouse with Duck"
   ]
  },
  {
   "cell_type": "code",
   "execution_count": null,
   "metadata": {},
   "outputs": [],
   "source": [
    "size=100\n",
    "str1=\"mickymouse\"\n",
    "str2=\"mouse\"\n",
    "str3=\"micky\"\n",
    "mult1=3\n",
    "mult2=5\n",
    "for num in range(size+1):\n",
    "    if (num % mult1 == 0 and num % mult2 == 0 ):\n",
    "        print(str1)\n",
    "    elif (num % mult2 == 0):\n",
    "        print(str2)\n",
    "    elif (num % mult1 == 0 ): \n",
    "        print(str3)\n",
    "    else :\n",
    "        print(num)"
   ]
  },
  {
   "cell_type": "code",
   "execution_count": null,
   "metadata": {},
   "outputs": [],
   "source": [
    "\n",
    "\"\"\"\"\n",
    "str1=\"mickymouse\"\n",
    "str2=\"mouse\"\n",
    "str3=\"micky\"\n",
    "mult1=3\n",
    "mult2=5\n",
    "out=[]\n",
    "for num in range(size+1):\n",
    "    if (num % mult1 == 0 and num % mult2 == 0 ):\n",
    "        out.append(str1)\n",
    "    elif (num % mult2 == 0):\n",
    "        out.append(str2)\n",
    "    elif (num % mult1 == 0 ): \n",
    "        out.append(str3)\n",
    "    else :\n",
    "        out.append(num)\n",
    "\n",
    "#print(out) \n",
    "newout=[]\n",
    "for array in out:\n",
    "    if (array==\"micky\"):\n",
    "#         newout.append(array.replace(\"micky\",\"donald\"))\n",
    "        newout.append(\"donald\")\n",
    "        \n",
    "    elif (array==\"mouse\"):\n",
    "#         newout.append(array.replace(\"mouse\",\"duck\"))\n",
    "        newout.append(\"duck\")\n",
    "        \n",
    "    else :\n",
    "        newout.append(array)\n",
    "        \n",
    "print(newout)        \n",
    "\n"
   ]
  },
  {
   "cell_type": "markdown",
   "metadata": {},
   "source": [
    "2\\. The swap function\n",
    "\n",
    "Write a function that swap the values of two input variables x and y (whatever the type). Try to do that also without a temporary variable"
   ]
  },
  {
   "cell_type": "code",
   "execution_count": null,
   "metadata": {},
   "outputs": [],
   "source": [
    "#the swap function\n",
    "\"\"\"\"\n",
    "def swap(x,y):\n",
    "    x,y=y,x\n",
    "    return(x,y)\n",
    "\n",
    "  \n",
    "swap(2,1)"
   ]
  },
  {
   "cell_type": "markdown",
   "metadata": {},
   "source": [
    "3\\. Computing the distance\n",
    "\n",
    "Write a function that calculates and returns the euclidean distance between two points *u* and *v*, where *u* and *v* are both 2-tuples *(x,y)*. For example, if *u=(3,0)* and *v=(0,4)*, the function should return 5"
   ]
  },
  {
   "cell_type": "code",
   "execution_count": null,
   "metadata": {},
   "outputs": [],
   "source": [
    "#computing the distance/def\n",
    "\"\"\"\"\n",
    "import math\n",
    "def distance(a,b):\n",
    "    \"a,b are 2D inputs(x,y)\"\n",
    "    result=math.sqrt(((a[0]-b[0])**2)+((a[1]-b[1])**2))\n",
    "    return(result)\n",
    "distance((3,0),(0,4))"
   ]
  },
  {
   "cell_type": "markdown",
   "metadata": {},
   "source": [
    "4\\. Counting letters\n",
    "\n",
    "Write a program to calculate the number of times each character occurs in a given string *s*. Ignore differneces in capitalization"
   ]
  },
  {
   "cell_type": "code",
   "execution_count": null,
   "metadata": {},
   "outputs": [],
   "source": [
    "s=\"Write a program that prints the numbers from 1 to 100. \\\n",
    "But for multiples of three print Mickey instead of the number and for the multiples of five print Mouse. \\\n",
    "For numbers which are multiples of both three and five print MickeyMouse\"\n",
    "s.count('b')"
   ]
  },
  {
   "cell_type": "markdown",
   "metadata": {},
   "source": [
    "5\\. Isolating the unique\n",
    "\n",
    "Write a function that determines and count the unique numbers in the list *l*"
   ]
  },
  {
   "cell_type": "code",
   "execution_count": null,
   "metadata": {},
   "outputs": [],
   "source": [
    "l = [36, 45, 58, 3, 74, 96, 64, 45, 31, 10, 24, 19, 33, 86, 99, 18, 63, 70, 85,\n",
    " 85, 63, 47, 56, 42, 70, 84, 88, 55, 20, 54, 8, 56, 51, 79, 81, 57, 37, 91,\n",
    " 1, 84, 84, 36, 66, 9, 89, 50, 42, 91, 50, 95, 90, 98, 39, 16, 82, 31, 92, 41,\n",
    " 45, 30, 66, 70, 34, 85, 94, 5, 3, 36, 72, 91, 84, 34, 87, 75, 53, 51, 20, 89, 51, 20]\n",
    "\n",
    "a=list(set(A))\n",
    "print(a)"
   ]
  },
  {
   "cell_type": "markdown",
   "metadata": {},
   "source": [
    "6\\. Combination of functions\n",
    "\n",
    "Write two functions - one that returns the square of a number, and one that returns the cube. Now write a third function that returns the number raised to the 6th power using the two previous functions."
   ]
  },
  {
   "cell_type": "code",
   "execution_count": null,
   "metadata": {},
   "outputs": [],
   "source": [
    "\"\"\"\"\n",
    "def square(x):\n",
    "    result=x**2\n",
    "    return(result)\n",
    "def cube(y):\n",
    "    result=y**3\n",
    "    return(result)\n",
    "def power(z):\n",
    "    result=cube(square(z))\n",
    "    return(result)\n",
    "print(square(2))\n",
    "print(cube(2))\n",
    "print(power(2))"
   ]
  },
  {
   "cell_type": "markdown",
   "metadata": {},
   "source": [
    "7\\. Cubes\n",
    "\n",
    "Create a list of the cubes of x for x in *[0, 10]* using:\n",
    "\n",
    "a) a for loop\n",
    "\n",
    "b) a list comprehension"
   ]
  },
  {
   "cell_type": "code",
   "execution_count": null,
   "metadata": {},
   "outputs": [],
   "source": [
    "#cube(a)\n",
    "\"\"\"\"\n",
    "size=10\n",
    "A=[]\n",
    "for x in range(size+1):\n",
    "    A.append(x**3)\n",
    "print(A)\n",
    "\n",
    "#cube(b)\n",
    "# A=[0,1,2,3,4,5,6,7,8,9,10]\n",
    "\n",
    "\"\"\"\"\n",
    "size=10\n",
    "A=range(0,size+1)\n",
    "B=[x**3 for x in A]\n",
    "print(B)"
   ]
  },
  {
   "cell_type": "markdown",
   "metadata": {},
   "source": [
    "8\\. Nested list comprehension\n",
    "\n",
    "A Pythagorean triple is an integer solution to the Pythagorean theorem $a^2+b^2=c^2$. The first Pythagorean triple is (3,4,5). Find and put in a tuple all unique Pythagorean triples for the positive integers a, b and c less than 100."
   ]
  },
  {
   "cell_type": "code",
   "execution_count": null,
   "metadata": {},
   "outputs": [],
   "source": [
    "#Pythagorean triple\n",
    "\"\"\"\"\n",
    "size=100\n",
    "cnt=1\n",
    "pythagorean_triples=()\n",
    "list_of_tuple=[]\n",
    "for a in range(1,size+1):\n",
    "    for b in range(a,size+1):\n",
    "        for c in range(b,size+1):\n",
    "            if (c*c==a*a+b*b):\n",
    "                print(\"Pythagorean triples\",cnt,\":\",(a,b,c))\n",
    "                pythagorean_triples=pythagorean_triples+(a,b,c)\n",
    "                list_of_tuple.append((a,b,c))\n",
    "                cnt+=1\n",
    "            c+=1\n",
    "        b+=1\n",
    "    a+=1\n",
    "    \n",
    "#print(pythagorean_triples)\n",
    "print(list_of_tuple)"
   ]
  },
  {
   "cell_type": "markdown",
   "metadata": {},
   "source": [
    "9\\. Normalization\n",
    "\n",
    "Write a function that takes a tuple of numbers and returns it with the entries normalized to one"
   ]
  },
  {
   "cell_type": "code",
   "execution_count": null,
   "metadata": {},
   "outputs": [],
   "source": [
    "#Normalization\n",
    "def norm(input_tuple):\n",
    "    max_num=max(input_tuple)\n",
    "    output_tuple = [i/max_num for i in input_tuple]\n",
    "    return output_tuple\n",
    "\n",
    "inp_tuple =(1,2,3,4,5,6)\n",
    "print(norm(inp_tuple))"
   ]
  }
 ],
 "metadata": {
  "kernelspec": {
   "display_name": "Python 3",
   "language": "python",
   "name": "python3"
  },
  "language_info": {
   "codemirror_mode": {
    "name": "ipython",
    "version": 3
   },
   "file_extension": ".py",
   "mimetype": "text/x-python",
   "name": "python",
   "nbconvert_exporter": "python",
   "pygments_lexer": "ipython3",
   "version": "3.8.5"
  }
 },
 "nbformat": 4,
 "nbformat_minor": 2
}
